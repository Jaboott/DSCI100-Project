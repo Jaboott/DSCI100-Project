{
 "cells": [
  {
   "cell_type": "markdown",
   "metadata": {},
   "source": [
    "## Data Science Project Proposal"
   ]
  },
  {
   "cell_type": "markdown",
   "metadata": {},
   "source": [
    "### Introduction\n",
    "paragraph..."
   ]
  },
  {
   "cell_type": "markdown",
   "metadata": {},
   "source": [
    "### Preliminary Exploratory Data Analysis"
   ]
  },
  {
   "cell_type": "markdown",
   "metadata": {},
   "source": [
    "#### Install And Imports"
   ]
  },
  {
   "cell_type": "code",
   "execution_count": 45,
   "metadata": {
    "vscode": {
     "languageId": "r"
    }
   },
   "outputs": [
    {
     "name": "stderr",
     "output_type": "stream",
     "text": [
      "Warning message:\n",
      "\"packages 'repr', 'tidymodels', 'RColorBrewer' are in use and will not be installed\"\n",
      "Installing package into 'C:/Users/Jason/AppData/Local/R/win-library/4.3'\n",
      "(as 'lib' is unspecified)\n",
      "\n"
     ]
    },
    {
     "name": "stdout",
     "output_type": "stream",
     "text": [
      "package 'languageserver' successfully unpacked and MD5 sums checked\n"
     ]
    },
    {
     "name": "stderr",
     "output_type": "stream",
     "text": [
      "Warning message:\n",
      "\"cannot remove prior installation of package 'languageserver'\"\n",
      "Warning message in file.copy(savedcopy, lib, recursive = TRUE):\n",
      "\"problem copying C:\\Users\\Jason\\AppData\\Local\\R\\win-library\\4.3\\00LOCK\\languageserver\\libs\\x64\\languageserver.dll to C:\\Users\\Jason\\AppData\\Local\\R\\win-library\\4.3\\languageserver\\libs\\x64\\languageserver.dll: Permission denied\"\n",
      "Warning message:\n",
      "\"restored 'languageserver'\"\n"
     ]
    },
    {
     "name": "stdout",
     "output_type": "stream",
     "text": [
      "\n",
      "The downloaded binary packages are in\n",
      "\tC:\\Users\\Jason\\AppData\\Local\\Temp\\RtmpkJuOwg\\downloaded_packages\n"
     ]
    }
   ],
   "source": [
    "# install and import packages\n",
    "install.packages(c(\"languageserver\", \"repr\", \"tidymodels\", \"RColorBrewer\"))\n",
    "library(tidyverse)\n",
    "library(repr)\n",
    "library(tidymodels)\n",
    "library(RColorBrewer)"
   ]
  },
  {
   "cell_type": "markdown",
   "metadata": {},
   "source": [
    "#### Acquiring <a href=\"https://archive.ics.uci.edu/dataset/45/heart+disease\">Data</a>.\n",
    "<p>We start by creating a file to store the data and download the specified file after unzipping. We also added the corresponding column names to the data.</p>"
   ]
  },
  {
   "cell_type": "code",
   "execution_count": 46,
   "metadata": {
    "vscode": {
     "languageId": "r"
    }
   },
   "outputs": [
    {
     "name": "stderr",
     "output_type": "stream",
     "text": [
      "\u001b[1mRows: \u001b[22m\u001b[34m303\u001b[39m \u001b[1mColumns: \u001b[22m\u001b[34m14\u001b[39m\n",
      "\u001b[36m──\u001b[39m \u001b[1mColumn specification\u001b[22m \u001b[36m────────────────────────────────────────────────────────\u001b[39m\n",
      "\u001b[1mDelimiter:\u001b[22m \",\"\n",
      "\u001b[31mchr\u001b[39m  (2): ca, thal\n",
      "\u001b[32mdbl\u001b[39m (12): age, sex, cp, trestbps, chol, fbs, restecg, thalach, exang, oldpea...\n",
      "\n",
      "\u001b[36mℹ\u001b[39m Use `spec()` to retrieve the full column specification for this data.\n",
      "\u001b[36mℹ\u001b[39m Specify the column types or set `show_col_types = FALSE` to quiet this message.\n"
     ]
    },
    {
     "name": "stdout",
     "output_type": "stream",
     "text": [
      "\u001b[90m# A tibble: 6 × 14\u001b[39m\n",
      "    age   sex    cp trestbps  chol   fbs restecg thalach exang oldpeak slope\n",
      "  \u001b[3m\u001b[90m<dbl>\u001b[39m\u001b[23m \u001b[3m\u001b[90m<dbl>\u001b[39m\u001b[23m \u001b[3m\u001b[90m<dbl>\u001b[39m\u001b[23m    \u001b[3m\u001b[90m<dbl>\u001b[39m\u001b[23m \u001b[3m\u001b[90m<dbl>\u001b[39m\u001b[23m \u001b[3m\u001b[90m<dbl>\u001b[39m\u001b[23m   \u001b[3m\u001b[90m<dbl>\u001b[39m\u001b[23m   \u001b[3m\u001b[90m<dbl>\u001b[39m\u001b[23m \u001b[3m\u001b[90m<dbl>\u001b[39m\u001b[23m   \u001b[3m\u001b[90m<dbl>\u001b[39m\u001b[23m \u001b[3m\u001b[90m<dbl>\u001b[39m\u001b[23m\n",
      "\u001b[90m1\u001b[39m    63     1     1      145   233     1       2     150     0     2.3     3\n",
      "\u001b[90m2\u001b[39m    67     1     4      160   286     0       2     108     1     1.5     2\n",
      "\u001b[90m3\u001b[39m    67     1     4      120   229     0       2     129     1     2.6     2\n",
      "\u001b[90m4\u001b[39m    37     1     3      130   250     0       0     187     0     3.5     3\n",
      "\u001b[90m5\u001b[39m    41     0     2      130   204     0       2     172     0     1.4     1\n",
      "\u001b[90m6\u001b[39m    56     1     2      120   236     0       0     178     0     0.8     1\n",
      "\u001b[90m# ℹ 3 more variables: ca <chr>, thal <chr>, num <dbl>\u001b[39m\n"
     ]
    }
   ],
   "source": [
    "url <- \"https://archive.ics.uci.edu/static/public/45/heart+disease.zip\"\n",
    "dest <- \"data/file.zip\"\n",
    "\n",
    "# checks if the data file exists\n",
    "if (!dir.exists(\"data/\")) {\n",
    "  #creates the file if it doesn't exist\n",
    "  dir.create(\"data/\", recursive = TRUE)\n",
    "}\n",
    "\n",
    "# downloads the file from the url to data file\n",
    "download.file(url, dest)\n",
    "\n",
    "# unzips the file\n",
    "unzip(zipfile = dest,\n",
    "      files = \"processed.cleveland.data\",\n",
    "      exdir = \"data/\")\n",
    "\n",
    "cleveland_data_col_names <- c(\"age\",\n",
    "                              \"sex\",\n",
    "                              \"cp\",\n",
    "                              \"trestbps\",\n",
    "                              \"chol\", \"fbs\",\n",
    "                              \"restecg\", \"thalach\",\n",
    "                              \"exang\",\n",
    "                              \"oldpeak\",\n",
    "                              \"slope\",\n",
    "                              \"ca\",\n",
    "                              \"thal\",\n",
    "                              \"num\")\n",
    "\n",
    "cleveland_data <- read_csv(\"data/processed.cleveland.data\",\n",
    "                           col_names = cleveland_data_col_names)\n",
    "\n",
    "print(head(cleveland_data))"
   ]
  },
  {
   "cell_type": "markdown",
   "metadata": {},
   "source": [
    "Describing the data."
   ]
  },
  {
   "cell_type": "code",
   "execution_count": 47,
   "metadata": {
    "vscode": {
     "languageId": "r"
    }
   },
   "outputs": [
    {
     "name": "stdout",
     "output_type": "stream",
     "text": [
      "Rows: 303\n",
      "Columns: 14\n",
      "$ age      \u001b[3m\u001b[90m<dbl>\u001b[39m\u001b[23m 63, 67, 67, 37, 41, 56, 62, 57, 63, 53, 57, 56, 56, 44, 52, 5…\n",
      "$ sex      \u001b[3m\u001b[90m<dbl>\u001b[39m\u001b[23m 1, 1, 1, 1, 0, 1, 0, 0, 1, 1, 1, 0, 1, 1, 1, 1, 1, 1, 0, 1, 1…\n",
      "$ cp       \u001b[3m\u001b[90m<dbl>\u001b[39m\u001b[23m 1, 4, 4, 3, 2, 2, 4, 4, 4, 4, 4, 2, 3, 2, 3, 3, 2, 4, 3, 2, 1…\n",
      "$ trestbps \u001b[3m\u001b[90m<dbl>\u001b[39m\u001b[23m 145, 160, 120, 130, 130, 120, 140, 120, 130, 140, 140, 140, 1…\n",
      "$ chol     \u001b[3m\u001b[90m<dbl>\u001b[39m\u001b[23m 233, 286, 229, 250, 204, 236, 268, 354, 254, 203, 192, 294, 2…\n",
      "$ fbs      \u001b[3m\u001b[90m<dbl>\u001b[39m\u001b[23m 1, 0, 0, 0, 0, 0, 0, 0, 0, 1, 0, 0, 1, 0, 1, 0, 0, 0, 0, 0, 0…\n",
      "$ restecg  \u001b[3m\u001b[90m<dbl>\u001b[39m\u001b[23m 2, 2, 2, 0, 2, 0, 2, 0, 2, 2, 0, 2, 2, 0, 0, 0, 0, 0, 0, 0, 2…\n",
      "$ thalach  \u001b[3m\u001b[90m<dbl>\u001b[39m\u001b[23m 150, 108, 129, 187, 172, 178, 160, 163, 147, 155, 148, 153, 1…\n",
      "$ exang    \u001b[3m\u001b[90m<dbl>\u001b[39m\u001b[23m 0, 1, 1, 0, 0, 0, 0, 1, 0, 1, 0, 0, 1, 0, 0, 0, 0, 0, 0, 0, 1…\n",
      "$ oldpeak  \u001b[3m\u001b[90m<dbl>\u001b[39m\u001b[23m 2.3, 1.5, 2.6, 3.5, 1.4, 0.8, 3.6, 0.6, 1.4, 3.1, 0.4, 1.3, 0…\n",
      "$ slope    \u001b[3m\u001b[90m<dbl>\u001b[39m\u001b[23m 3, 2, 2, 3, 1, 1, 3, 1, 2, 3, 2, 2, 2, 1, 1, 1, 3, 1, 1, 1, 2…\n",
      "$ ca       \u001b[3m\u001b[90m<chr>\u001b[39m\u001b[23m \"0.0\", \"3.0\", \"2.0\", \"0.0\", \"0.0\", \"0.0\", \"2.0\", \"0.0\", \"1.0\"…\n",
      "$ thal     \u001b[3m\u001b[90m<chr>\u001b[39m\u001b[23m \"6.0\", \"3.0\", \"7.0\", \"3.0\", \"3.0\", \"3.0\", \"3.0\", \"3.0\", \"7.0\"…\n",
      "$ num      \u001b[3m\u001b[90m<dbl>\u001b[39m\u001b[23m 0, 2, 1, 0, 0, 0, 3, 0, 2, 1, 0, 0, 2, 0, 0, 0, 1, 0, 0, 0, 0…\n"
     ]
    },
    {
     "name": "stdout",
     "output_type": "stream",
     "text": [
      "\u001b[90m# A tibble: 14 × 3\u001b[39m\n",
      "   ColumnName NumNulls ColumnType\n",
      "   \u001b[3m\u001b[90m<chr>\u001b[39m\u001b[23m         \u001b[3m\u001b[90m<dbl>\u001b[39m\u001b[23m \u001b[3m\u001b[90m<chr>\u001b[39m\u001b[23m     \n",
      "\u001b[90m 1\u001b[39m age               0 numeric   \n",
      "\u001b[90m 2\u001b[39m sex               0 numeric   \n",
      "\u001b[90m 3\u001b[39m cp                0 numeric   \n",
      "\u001b[90m 4\u001b[39m trestbps          0 numeric   \n",
      "\u001b[90m 5\u001b[39m chol              0 numeric   \n",
      "\u001b[90m 6\u001b[39m fbs               0 numeric   \n",
      "\u001b[90m 7\u001b[39m restecg           0 numeric   \n",
      "\u001b[90m 8\u001b[39m thalach           0 numeric   \n",
      "\u001b[90m 9\u001b[39m exang             0 numeric   \n",
      "\u001b[90m10\u001b[39m oldpeak           0 numeric   \n",
      "\u001b[90m11\u001b[39m slope             0 numeric   \n",
      "\u001b[90m12\u001b[39m ca                0 character \n",
      "\u001b[90m13\u001b[39m thal              0 character \n",
      "\u001b[90m14\u001b[39m num               0 numeric   \n"
     ]
    }
   ],
   "source": [
    "# taking a look at the data patterns\n",
    "glimpse(cleveland_data)\n",
    "\n",
    "# making a tibble with column type and the number of nulls in each column\n",
    "cleveland_summary <- tibble(\n",
    "  ColumnName = cleveland_data_col_names,\n",
    "  NumNulls = map_dbl(cleveland_data, ~sum(is.na(.x))),\n",
    "  ColumnType = map_chr(cleveland_data, ~class(.x))\n",
    ")\n",
    "print(cleveland_summary)"
   ]
  },
  {
   "cell_type": "markdown",
   "metadata": {},
   "source": [
    "### Methods\n",
    "paragraph..."
   ]
  },
  {
   "cell_type": "markdown",
   "metadata": {},
   "source": [
    "### Expected Outcomes And Significance\n",
    "paragraph..."
   ]
  }
 ],
 "metadata": {
  "kernelspec": {
   "display_name": "R",
   "language": "R",
   "name": "ir"
  },
  "language_info": {
   "codemirror_mode": "r",
   "file_extension": ".r",
   "mimetype": "text/x-r-source",
   "name": "R",
   "pygments_lexer": "r",
   "version": "4.3.2"
  }
 },
 "nbformat": 4,
 "nbformat_minor": 2
}
