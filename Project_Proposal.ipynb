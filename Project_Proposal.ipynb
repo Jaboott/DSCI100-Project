{
 "cells": [
  {
   "cell_type": "markdown",
   "metadata": {},
   "source": [
    "## Data Science Project Proposal"
   ]
  },
  {
   "cell_type": "markdown",
   "metadata": {},
   "source": [
    "## Code"
   ]
  },
  {
   "cell_type": "code",
   "execution_count": 26,
   "metadata": {},
   "outputs": [
    {
     "name": "stderr",
     "output_type": "stream",
     "text": [
      "Updating HTML index of packages in '.Library'\n",
      "\n",
      "Making 'packages.html' ...\n",
      " done\n",
      "\n"
     ]
    }
   ],
   "source": [
    "#run this cell!\n",
    "install.packages('tidyverse')\n",
    "library(tidyverse)\n",
    "library(repr)\n",
    "library(tidymodels)\n",
    "library(rvest) #for webscraping\n",
    "options(repr.matrix.max.rows = 6)\n"
   ]
  },
  {
   "cell_type": "markdown",
   "metadata": {},
   "source": [
<<<<<<< HEAD
    "### Preliminary Exploratory Data Analysis"
   ]
  },
  {
   "cell_type": "markdown",
   "metadata": {},
   "source": [
    "Importing the libraries needed for the project."
=======
    "https://www.kaggle.com/competitions/titanic/data?select=train.csv\n",
    "\n"
>>>>>>> 630a119ff55554edbabe206c2b14fa0a98b4d542
   ]
  },
  {
   "cell_type": "code",
<<<<<<< HEAD
   "execution_count": 3,
   "metadata": {
    "vscode": {
     "languageId": "r"
    }
   },
=======
   "execution_count": 27,
   "metadata": {},
>>>>>>> 630a119ff55554edbabe206c2b14fa0a98b4d542
   "outputs": [
    {
     "name": "stderr",
     "output_type": "stream",
     "text": [
<<<<<<< HEAD
      "Warning message:\n",
      "\"packages 'repr', 'tidymodels', 'RColorBrewer' are in use and will not be installed\"\n",
      "Installing package into 'C:/Users/Jason/AppData/Local/R/win-library/4.3'\n",
      "(as 'lib' is unspecified)\n",
      "\n"
     ]
    },
    {
     "name": "stdout",
     "output_type": "stream",
     "text": [
      "package 'languageserver' successfully unpacked and MD5 sums checked\n"
     ]
    },
    {
     "name": "stderr",
     "output_type": "stream",
     "text": [
      "Warning message:\n",
      "\"cannot remove prior installation of package 'languageserver'\"\n",
      "Warning message in file.copy(savedcopy, lib, recursive = TRUE):\n",
      "\"problem copying C:\\Users\\Jason\\AppData\\Local\\R\\win-library\\4.3\\00LOCK\\languageserver\\libs\\x64\\languageserver.dll to C:\\Users\\Jason\\AppData\\Local\\R\\win-library\\4.3\\languageserver\\libs\\x64\\languageserver.dll: Permission denied\"\n",
      "Warning message:\n",
      "\"restored 'languageserver'\"\n"
     ]
    },
    {
     "name": "stdout",
     "output_type": "stream",
     "text": [
      "\n",
      "The downloaded binary packages are in\n",
      "\tC:\\Users\\Jason\\AppData\\Local\\Temp\\RtmpkJuOwg\\downloaded_packages\n"
     ]
    }
   ],
   "source": [
    "# install and import packages\n",
    "install.packages(c(\"languageserver\", \"repr\", \"tidymodels\", \"RColorBrewer\"))\n",
    "library(tidyverse)\n",
    "library(repr)\n",
    "library(tidymodels)\n",
    "library(RColorBrewer)"
   ]
  },
  {
   "cell_type": "markdown",
   "metadata": {},
   "source": [
    "Downloading and reading the <a href=\"https://archive.ics.uci.edu/dataset/45/heart+disease\">data</a>."
   ]
  },
  {
   "cell_type": "code",
   "execution_count": 4,
   "metadata": {
    "vscode": {
     "languageId": "r"
    }
   },
   "outputs": [
    {
     "name": "stderr",
     "output_type": "stream",
     "text": [
      "\u001b[1mRows: \u001b[22m\u001b[34m303\u001b[39m \u001b[1mColumns: \u001b[22m\u001b[34m14\u001b[39m\n",
      "\u001b[36m──\u001b[39m \u001b[1mColumn specification\u001b[22m \u001b[36m────────────────────────────────────────────────────────\u001b[39m\n",
      "\u001b[1mDelimiter:\u001b[22m \",\"\n",
      "\u001b[31mchr\u001b[39m  (2): X12, X13\n",
      "\u001b[32mdbl\u001b[39m (12): X1, X2, X3, X4, X5, X6, X7, X8, X9, X10, X11, X14\n",
=======
      "\u001b[1mRows: \u001b[22m\u001b[34m891\u001b[39m \u001b[1mColumns: \u001b[22m\u001b[34m12\u001b[39m\n",
      "\u001b[36m──\u001b[39m \u001b[1mColumn specification\u001b[22m \u001b[36m────────────────────────────────────────────────────────\u001b[39m\n",
      "\u001b[1mDelimiter:\u001b[22m \",\"\n",
      "\u001b[31mchr\u001b[39m (5): Name, Sex, Ticket, Cabin, Embarked\n",
      "\u001b[32mdbl\u001b[39m (7): PassengerId, Survived, Pclass, Age, SibSp, Parch, Fare\n",
>>>>>>> 630a119ff55554edbabe206c2b14fa0a98b4d542
      "\n",
      "\u001b[36mℹ\u001b[39m Use `spec()` to retrieve the full column specification for this data.\n",
      "\u001b[36mℹ\u001b[39m Specify the column types or set `show_col_types = FALSE` to quiet this message.\n"
     ]
    },
    {
     "data": {
      "text/html": [
       "<table class=\"dataframe\">\n",
<<<<<<< HEAD
       "<caption>A tibble: 6 × 14</caption>\n",
       "<thead>\n",
       "\t<tr><th scope=col>X1</th><th scope=col>X2</th><th scope=col>X3</th><th scope=col>X4</th><th scope=col>X5</th><th scope=col>X6</th><th scope=col>X7</th><th scope=col>X8</th><th scope=col>X9</th><th scope=col>X10</th><th scope=col>X11</th><th scope=col>X12</th><th scope=col>X13</th><th scope=col>X14</th></tr>\n",
       "\t<tr><th scope=col>&lt;dbl&gt;</th><th scope=col>&lt;dbl&gt;</th><th scope=col>&lt;dbl&gt;</th><th scope=col>&lt;dbl&gt;</th><th scope=col>&lt;dbl&gt;</th><th scope=col>&lt;dbl&gt;</th><th scope=col>&lt;dbl&gt;</th><th scope=col>&lt;dbl&gt;</th><th scope=col>&lt;dbl&gt;</th><th scope=col>&lt;dbl&gt;</th><th scope=col>&lt;dbl&gt;</th><th scope=col>&lt;chr&gt;</th><th scope=col>&lt;chr&gt;</th><th scope=col>&lt;dbl&gt;</th></tr>\n",
       "</thead>\n",
       "<tbody>\n",
       "\t<tr><td>63</td><td>1</td><td>1</td><td>145</td><td>233</td><td>1</td><td>2</td><td>150</td><td>0</td><td>2.3</td><td>3</td><td>0.0</td><td>6.0</td><td>0</td></tr>\n",
       "\t<tr><td>67</td><td>1</td><td>4</td><td>160</td><td>286</td><td>0</td><td>2</td><td>108</td><td>1</td><td>1.5</td><td>2</td><td>3.0</td><td>3.0</td><td>2</td></tr>\n",
       "\t<tr><td>67</td><td>1</td><td>4</td><td>120</td><td>229</td><td>0</td><td>2</td><td>129</td><td>1</td><td>2.6</td><td>2</td><td>2.0</td><td>7.0</td><td>1</td></tr>\n",
       "\t<tr><td>37</td><td>1</td><td>3</td><td>130</td><td>250</td><td>0</td><td>0</td><td>187</td><td>0</td><td>3.5</td><td>3</td><td>0.0</td><td>3.0</td><td>0</td></tr>\n",
       "\t<tr><td>41</td><td>0</td><td>2</td><td>130</td><td>204</td><td>0</td><td>2</td><td>172</td><td>0</td><td>1.4</td><td>1</td><td>0.0</td><td>3.0</td><td>0</td></tr>\n",
       "\t<tr><td>56</td><td>1</td><td>2</td><td>120</td><td>236</td><td>0</td><td>0</td><td>178</td><td>0</td><td>0.8</td><td>1</td><td>0.0</td><td>3.0</td><td>0</td></tr>\n",
=======
       "<caption>A spec_tbl_df: 667 × 12</caption>\n",
       "<thead>\n",
       "\t<tr><th scope=col>PassengerId</th><th scope=col>Survived</th><th scope=col>Pclass</th><th scope=col>Name</th><th scope=col>Sex</th><th scope=col>Age</th><th scope=col>SibSp</th><th scope=col>Parch</th><th scope=col>Ticket</th><th scope=col>Fare</th><th scope=col>Cabin</th><th scope=col>Embarked</th></tr>\n",
       "\t<tr><th scope=col>&lt;dbl&gt;</th><th scope=col>&lt;dbl&gt;</th><th scope=col>&lt;dbl&gt;</th><th scope=col>&lt;chr&gt;</th><th scope=col>&lt;chr&gt;</th><th scope=col>&lt;dbl&gt;</th><th scope=col>&lt;dbl&gt;</th><th scope=col>&lt;dbl&gt;</th><th scope=col>&lt;chr&gt;</th><th scope=col>&lt;dbl&gt;</th><th scope=col>&lt;chr&gt;</th><th scope=col>&lt;chr&gt;</th></tr>\n",
       "</thead>\n",
       "<tbody>\n",
       "\t<tr><td>1</td><td>0</td><td>3</td><td>Braund, Mr. Owen Harris </td><td>male</td><td>22</td><td>1</td><td>0</td><td>A/5 21171</td><td>7.2500</td><td>NA</td><td>S</td></tr>\n",
       "\t<tr><td>5</td><td>0</td><td>3</td><td>Allen, Mr. William Henry</td><td>male</td><td>35</td><td>0</td><td>0</td><td>373450   </td><td>8.0500</td><td>NA</td><td>S</td></tr>\n",
       "\t<tr><td>6</td><td>0</td><td>3</td><td>Moran, Mr. James        </td><td>male</td><td>NA</td><td>0</td><td>0</td><td>330877   </td><td>8.4583</td><td>NA</td><td>Q</td></tr>\n",
       "\t<tr><td>⋮</td><td>⋮</td><td>⋮</td><td>⋮</td><td>⋮</td><td>⋮</td><td>⋮</td><td>⋮</td><td>⋮</td><td>⋮</td><td>⋮</td><td>⋮</td></tr>\n",
       "\t<tr><td>880</td><td>1</td><td>1</td><td>Potter, Mrs. Thomas Jr (Lily Alexenia Wilson)</td><td>female</td><td>56</td><td>0</td><td>1</td><td>11767 </td><td>83.1583</td><td>C50 </td><td>C</td></tr>\n",
       "\t<tr><td>881</td><td>1</td><td>2</td><td>Shelley, Mrs. William (Imanita Parrish Hall) </td><td>female</td><td>25</td><td>0</td><td>1</td><td>230433</td><td>26.0000</td><td>NA  </td><td>S</td></tr>\n",
       "\t<tr><td>890</td><td>1</td><td>1</td><td>Behr, Mr. Karl Howell                        </td><td>male  </td><td>26</td><td>0</td><td>0</td><td>111369</td><td>30.0000</td><td>C148</td><td>C</td></tr>\n",
>>>>>>> 630a119ff55554edbabe206c2b14fa0a98b4d542
       "</tbody>\n",
       "</table>\n"
      ],
      "text/latex": [
<<<<<<< HEAD
       "A tibble: 6 × 14\n",
       "\\begin{tabular}{llllllllllllll}\n",
       " X1 & X2 & X3 & X4 & X5 & X6 & X7 & X8 & X9 & X10 & X11 & X12 & X13 & X14\\\\\n",
       " <dbl> & <dbl> & <dbl> & <dbl> & <dbl> & <dbl> & <dbl> & <dbl> & <dbl> & <dbl> & <dbl> & <chr> & <chr> & <dbl>\\\\\n",
       "\\hline\n",
       "\t 63 & 1 & 1 & 145 & 233 & 1 & 2 & 150 & 0 & 2.3 & 3 & 0.0 & 6.0 & 0\\\\\n",
       "\t 67 & 1 & 4 & 160 & 286 & 0 & 2 & 108 & 1 & 1.5 & 2 & 3.0 & 3.0 & 2\\\\\n",
       "\t 67 & 1 & 4 & 120 & 229 & 0 & 2 & 129 & 1 & 2.6 & 2 & 2.0 & 7.0 & 1\\\\\n",
       "\t 37 & 1 & 3 & 130 & 250 & 0 & 0 & 187 & 0 & 3.5 & 3 & 0.0 & 3.0 & 0\\\\\n",
       "\t 41 & 0 & 2 & 130 & 204 & 0 & 2 & 172 & 0 & 1.4 & 1 & 0.0 & 3.0 & 0\\\\\n",
       "\t 56 & 1 & 2 & 120 & 236 & 0 & 0 & 178 & 0 & 0.8 & 1 & 0.0 & 3.0 & 0\\\\\n",
=======
       "A spec\\_tbl\\_df: 667 × 12\n",
       "\\begin{tabular}{llllllllllll}\n",
       " PassengerId & Survived & Pclass & Name & Sex & Age & SibSp & Parch & Ticket & Fare & Cabin & Embarked\\\\\n",
       " <dbl> & <dbl> & <dbl> & <chr> & <chr> & <dbl> & <dbl> & <dbl> & <chr> & <dbl> & <chr> & <chr>\\\\\n",
       "\\hline\n",
       "\t 1 & 0 & 3 & Braund, Mr. Owen Harris  & male & 22 & 1 & 0 & A/5 21171 & 7.2500 & NA & S\\\\\n",
       "\t 5 & 0 & 3 & Allen, Mr. William Henry & male & 35 & 0 & 0 & 373450    & 8.0500 & NA & S\\\\\n",
       "\t 6 & 0 & 3 & Moran, Mr. James         & male & NA & 0 & 0 & 330877    & 8.4583 & NA & Q\\\\\n",
       "\t ⋮ & ⋮ & ⋮ & ⋮ & ⋮ & ⋮ & ⋮ & ⋮ & ⋮ & ⋮ & ⋮ & ⋮\\\\\n",
       "\t 880 & 1 & 1 & Potter, Mrs. Thomas Jr (Lily Alexenia Wilson) & female & 56 & 0 & 1 & 11767  & 83.1583 & C50  & C\\\\\n",
       "\t 881 & 1 & 2 & Shelley, Mrs. William (Imanita Parrish Hall)  & female & 25 & 0 & 1 & 230433 & 26.0000 & NA   & S\\\\\n",
       "\t 890 & 1 & 1 & Behr, Mr. Karl Howell                         & male   & 26 & 0 & 0 & 111369 & 30.0000 & C148 & C\\\\\n",
>>>>>>> 630a119ff55554edbabe206c2b14fa0a98b4d542
       "\\end{tabular}\n"
      ],
      "text/markdown": [
       "\n",
<<<<<<< HEAD
       "A tibble: 6 × 14\n",
       "\n",
       "| X1 &lt;dbl&gt; | X2 &lt;dbl&gt; | X3 &lt;dbl&gt; | X4 &lt;dbl&gt; | X5 &lt;dbl&gt; | X6 &lt;dbl&gt; | X7 &lt;dbl&gt; | X8 &lt;dbl&gt; | X9 &lt;dbl&gt; | X10 &lt;dbl&gt; | X11 &lt;dbl&gt; | X12 &lt;chr&gt; | X13 &lt;chr&gt; | X14 &lt;dbl&gt; |\n",
       "|---|---|---|---|---|---|---|---|---|---|---|---|---|---|\n",
       "| 63 | 1 | 1 | 145 | 233 | 1 | 2 | 150 | 0 | 2.3 | 3 | 0.0 | 6.0 | 0 |\n",
       "| 67 | 1 | 4 | 160 | 286 | 0 | 2 | 108 | 1 | 1.5 | 2 | 3.0 | 3.0 | 2 |\n",
       "| 67 | 1 | 4 | 120 | 229 | 0 | 2 | 129 | 1 | 2.6 | 2 | 2.0 | 7.0 | 1 |\n",
       "| 37 | 1 | 3 | 130 | 250 | 0 | 0 | 187 | 0 | 3.5 | 3 | 0.0 | 3.0 | 0 |\n",
       "| 41 | 0 | 2 | 130 | 204 | 0 | 2 | 172 | 0 | 1.4 | 1 | 0.0 | 3.0 | 0 |\n",
       "| 56 | 1 | 2 | 120 | 236 | 0 | 0 | 178 | 0 | 0.8 | 1 | 0.0 | 3.0 | 0 |\n",
       "\n"
      ],
      "text/plain": [
       "  X1 X2 X3 X4  X5  X6 X7 X8  X9 X10 X11 X12 X13 X14\n",
       "1 63 1  1  145 233 1  2  150 0  2.3 3   0.0 6.0 0  \n",
       "2 67 1  4  160 286 0  2  108 1  1.5 2   3.0 3.0 2  \n",
       "3 67 1  4  120 229 0  2  129 1  2.6 2   2.0 7.0 1  \n",
       "4 37 1  3  130 250 0  0  187 0  3.5 3   0.0 3.0 0  \n",
       "5 41 0  2  130 204 0  2  172 0  1.4 1   0.0 3.0 0  \n",
       "6 56 1  2  120 236 0  0  178 0  0.8 1   0.0 3.0 0  "
=======
       "A spec_tbl_df: 667 × 12\n",
       "\n",
       "| PassengerId &lt;dbl&gt; | Survived &lt;dbl&gt; | Pclass &lt;dbl&gt; | Name &lt;chr&gt; | Sex &lt;chr&gt; | Age &lt;dbl&gt; | SibSp &lt;dbl&gt; | Parch &lt;dbl&gt; | Ticket &lt;chr&gt; | Fare &lt;dbl&gt; | Cabin &lt;chr&gt; | Embarked &lt;chr&gt; |\n",
       "|---|---|---|---|---|---|---|---|---|---|---|---|\n",
       "| 1 | 0 | 3 | Braund, Mr. Owen Harris  | male | 22 | 1 | 0 | A/5 21171 | 7.2500 | NA | S |\n",
       "| 5 | 0 | 3 | Allen, Mr. William Henry | male | 35 | 0 | 0 | 373450    | 8.0500 | NA | S |\n",
       "| 6 | 0 | 3 | Moran, Mr. James         | male | NA | 0 | 0 | 330877    | 8.4583 | NA | Q |\n",
       "| ⋮ | ⋮ | ⋮ | ⋮ | ⋮ | ⋮ | ⋮ | ⋮ | ⋮ | ⋮ | ⋮ | ⋮ |\n",
       "| 880 | 1 | 1 | Potter, Mrs. Thomas Jr (Lily Alexenia Wilson) | female | 56 | 0 | 1 | 11767  | 83.1583 | C50  | C |\n",
       "| 881 | 1 | 2 | Shelley, Mrs. William (Imanita Parrish Hall)  | female | 25 | 0 | 1 | 230433 | 26.0000 | NA   | S |\n",
       "| 890 | 1 | 1 | Behr, Mr. Karl Howell                         | male   | 26 | 0 | 0 | 111369 | 30.0000 | C148 | C |\n",
       "\n"
      ],
      "text/plain": [
       "    PassengerId Survived Pclass Name                                         \n",
       "1   1           0        3      Braund, Mr. Owen Harris                      \n",
       "2   5           0        3      Allen, Mr. William Henry                     \n",
       "3   6           0        3      Moran, Mr. James                             \n",
       "⋮   ⋮           ⋮        ⋮      ⋮                                            \n",
       "665 880         1        1      Potter, Mrs. Thomas Jr (Lily Alexenia Wilson)\n",
       "666 881         1        2      Shelley, Mrs. William (Imanita Parrish Hall) \n",
       "667 890         1        1      Behr, Mr. Karl Howell                        \n",
       "    Sex    Age SibSp Parch Ticket    Fare    Cabin Embarked\n",
       "1   male   22  1     0     A/5 21171 7.2500  NA    S       \n",
       "2   male   35  0     0     373450    8.0500  NA    S       \n",
       "3   male   NA  0     0     330877    8.4583  NA    Q       \n",
       "⋮   ⋮      ⋮   ⋮     ⋮     ⋮         ⋮       ⋮     ⋮       \n",
       "665 female 56  0     1     11767     83.1583 C50   C       \n",
       "666 female 25  0     1     230433    26.0000 NA    S       \n",
       "667 male   26  0     0     111369    30.0000 C148  C       "
      ]
     },
     "metadata": {},
     "output_type": "display_data"
    },
    {
     "data": {
      "text/html": [
       "<table class=\"dataframe\">\n",
       "<caption>A spec_tbl_df: 224 × 12</caption>\n",
       "<thead>\n",
       "\t<tr><th scope=col>PassengerId</th><th scope=col>Survived</th><th scope=col>Pclass</th><th scope=col>Name</th><th scope=col>Sex</th><th scope=col>Age</th><th scope=col>SibSp</th><th scope=col>Parch</th><th scope=col>Ticket</th><th scope=col>Fare</th><th scope=col>Cabin</th><th scope=col>Embarked</th></tr>\n",
       "\t<tr><th scope=col>&lt;dbl&gt;</th><th scope=col>&lt;dbl&gt;</th><th scope=col>&lt;dbl&gt;</th><th scope=col>&lt;chr&gt;</th><th scope=col>&lt;chr&gt;</th><th scope=col>&lt;dbl&gt;</th><th scope=col>&lt;dbl&gt;</th><th scope=col>&lt;dbl&gt;</th><th scope=col>&lt;chr&gt;</th><th scope=col>&lt;dbl&gt;</th><th scope=col>&lt;chr&gt;</th><th scope=col>&lt;chr&gt;</th></tr>\n",
       "</thead>\n",
       "<tbody>\n",
       "\t<tr><td> 7</td><td>0</td><td>1</td><td>McCarthy, Mr. Timothy J            </td><td>male  </td><td>54</td><td>0</td><td>0</td><td>17463 </td><td>51.8625</td><td>E46</td><td>S</td></tr>\n",
       "\t<tr><td> 8</td><td>0</td><td>3</td><td>Palsson, Master. Gosta Leonard     </td><td>male  </td><td> 2</td><td>3</td><td>1</td><td>349909</td><td>21.0750</td><td>NA </td><td>S</td></tr>\n",
       "\t<tr><td>10</td><td>1</td><td>2</td><td>Nasser, Mrs. Nicholas (Adele Achem)</td><td>female</td><td>14</td><td>1</td><td>0</td><td>237736</td><td>30.0708</td><td>NA </td><td>C</td></tr>\n",
       "\t<tr><td>⋮</td><td>⋮</td><td>⋮</td><td>⋮</td><td>⋮</td><td>⋮</td><td>⋮</td><td>⋮</td><td>⋮</td><td>⋮</td><td>⋮</td><td>⋮</td></tr>\n",
       "\t<tr><td>887</td><td>0</td><td>2</td><td>Montvila, Rev. Juozas       </td><td>male  </td><td>27</td><td>0</td><td>0</td><td>211536</td><td>13.00</td><td>NA </td><td>S</td></tr>\n",
       "\t<tr><td>888</td><td>1</td><td>1</td><td>Graham, Miss. Margaret Edith</td><td>female</td><td>19</td><td>0</td><td>0</td><td>112053</td><td>30.00</td><td>B42</td><td>S</td></tr>\n",
       "\t<tr><td>891</td><td>0</td><td>3</td><td>Dooley, Mr. Patrick         </td><td>male  </td><td>32</td><td>0</td><td>0</td><td>370376</td><td> 7.75</td><td>NA </td><td>Q</td></tr>\n",
       "</tbody>\n",
       "</table>\n"
      ],
      "text/latex": [
       "A spec\\_tbl\\_df: 224 × 12\n",
       "\\begin{tabular}{llllllllllll}\n",
       " PassengerId & Survived & Pclass & Name & Sex & Age & SibSp & Parch & Ticket & Fare & Cabin & Embarked\\\\\n",
       " <dbl> & <dbl> & <dbl> & <chr> & <chr> & <dbl> & <dbl> & <dbl> & <chr> & <dbl> & <chr> & <chr>\\\\\n",
       "\\hline\n",
       "\t  7 & 0 & 1 & McCarthy, Mr. Timothy J             & male   & 54 & 0 & 0 & 17463  & 51.8625 & E46 & S\\\\\n",
       "\t  8 & 0 & 3 & Palsson, Master. Gosta Leonard      & male   &  2 & 3 & 1 & 349909 & 21.0750 & NA  & S\\\\\n",
       "\t 10 & 1 & 2 & Nasser, Mrs. Nicholas (Adele Achem) & female & 14 & 1 & 0 & 237736 & 30.0708 & NA  & C\\\\\n",
       "\t ⋮ & ⋮ & ⋮ & ⋮ & ⋮ & ⋮ & ⋮ & ⋮ & ⋮ & ⋮ & ⋮ & ⋮\\\\\n",
       "\t 887 & 0 & 2 & Montvila, Rev. Juozas        & male   & 27 & 0 & 0 & 211536 & 13.00 & NA  & S\\\\\n",
       "\t 888 & 1 & 1 & Graham, Miss. Margaret Edith & female & 19 & 0 & 0 & 112053 & 30.00 & B42 & S\\\\\n",
       "\t 891 & 0 & 3 & Dooley, Mr. Patrick          & male   & 32 & 0 & 0 & 370376 &  7.75 & NA  & Q\\\\\n",
       "\\end{tabular}\n"
      ],
      "text/markdown": [
       "\n",
       "A spec_tbl_df: 224 × 12\n",
       "\n",
       "| PassengerId &lt;dbl&gt; | Survived &lt;dbl&gt; | Pclass &lt;dbl&gt; | Name &lt;chr&gt; | Sex &lt;chr&gt; | Age &lt;dbl&gt; | SibSp &lt;dbl&gt; | Parch &lt;dbl&gt; | Ticket &lt;chr&gt; | Fare &lt;dbl&gt; | Cabin &lt;chr&gt; | Embarked &lt;chr&gt; |\n",
       "|---|---|---|---|---|---|---|---|---|---|---|---|\n",
       "|  7 | 0 | 1 | McCarthy, Mr. Timothy J             | male   | 54 | 0 | 0 | 17463  | 51.8625 | E46 | S |\n",
       "|  8 | 0 | 3 | Palsson, Master. Gosta Leonard      | male   |  2 | 3 | 1 | 349909 | 21.0750 | NA  | S |\n",
       "| 10 | 1 | 2 | Nasser, Mrs. Nicholas (Adele Achem) | female | 14 | 1 | 0 | 237736 | 30.0708 | NA  | C |\n",
       "| ⋮ | ⋮ | ⋮ | ⋮ | ⋮ | ⋮ | ⋮ | ⋮ | ⋮ | ⋮ | ⋮ | ⋮ |\n",
       "| 887 | 0 | 2 | Montvila, Rev. Juozas        | male   | 27 | 0 | 0 | 211536 | 13.00 | NA  | S |\n",
       "| 888 | 1 | 1 | Graham, Miss. Margaret Edith | female | 19 | 0 | 0 | 112053 | 30.00 | B42 | S |\n",
       "| 891 | 0 | 3 | Dooley, Mr. Patrick          | male   | 32 | 0 | 0 | 370376 |  7.75 | NA  | Q |\n",
       "\n"
      ],
      "text/plain": [
       "    PassengerId Survived Pclass Name                                Sex    Age\n",
       "1    7          0        1      McCarthy, Mr. Timothy J             male   54 \n",
       "2    8          0        3      Palsson, Master. Gosta Leonard      male    2 \n",
       "3   10          1        2      Nasser, Mrs. Nicholas (Adele Achem) female 14 \n",
       "⋮   ⋮           ⋮        ⋮      ⋮                                   ⋮      ⋮  \n",
       "222 887         0        2      Montvila, Rev. Juozas               male   27 \n",
       "223 888         1        1      Graham, Miss. Margaret Edith        female 19 \n",
       "224 891         0        3      Dooley, Mr. Patrick                 male   32 \n",
       "    SibSp Parch Ticket Fare    Cabin Embarked\n",
       "1   0     0     17463  51.8625 E46   S       \n",
       "2   3     1     349909 21.0750 NA    S       \n",
       "3   1     0     237736 30.0708 NA    C       \n",
       "⋮   ⋮     ⋮     ⋮      ⋮       ⋮     ⋮       \n",
       "222 0     0     211536 13.00   NA    S       \n",
       "223 0     0     112053 30.00   B42   S       \n",
       "224 0     0     370376  7.75   NA    Q       "
>>>>>>> 630a119ff55554edbabe206c2b14fa0a98b4d542
      ]
     },
     "metadata": {},
     "output_type": "display_data"
    }
   ],
   "source": [
<<<<<<< HEAD
    "url <- \"https://archive.ics.uci.edu/static/public/45/heart+disease.zip\"\n",
    "dest <- \"data/file.zip\"\n",
    "\n",
    "# checks if the data file exists\n",
    "if (!dir.exists(\"data/\")) {\n",
    "  #creates the file if it doesn't exist\n",
    "  dir.create(\"data/\", recursive = TRUE)\n",
    "}\n",
    "\n",
    "# downloads the file from the url to data file\n",
    "download.file(url, dest)\n",
    "\n",
    "# unzips the file\n",
    "unzip(zipfile = dest,\n",
    "      files = \"processed.cleveland.data\",\n",
    "      exdir = \"data/\")\n",
    "\n",
    "data <- read_csv(\"data/processed.cleveland.data\", col_names = FALSE)\n",
    "head(data)"
=======
    "titanic = read_csv(\"data/train.csv\")\n",
    "titanic_split <- initial_split(titanic, prop = .75, strata = Survived)\n",
    "train <- training(titanic_split)\n",
    "test <- testing(titanic_split)\n",
    "train\n",
    "test"
   ]
  },
  {
   "cell_type": "code",
   "execution_count": null,
   "metadata": {},
   "outputs": [],
   "source": []
  },
  {
   "cell_type": "markdown",
   "metadata": {},
   "source": [
    "### Introduction\n",
    "paragraph...\n",
    "Prediction question:\n",
    "    The survival of a passenger on the Titanic can be determined by their , age, sex, and class.\n",
    "    (un-embarkment is 100% survival)\n",
    "\n",
    "## concerns\n",
    "\n",
    "\"Demonstrate that the dataset can be read from the web into R\"\n",
    "\n",
    "\"and then submitted both as an .html file (File -> Download As -> HTML) and an .ipynb file that is reproducible (i.e. works and runs without any additional files.)\"\n",
    "\n",
    "source:https://www.kaggle.com/competitions/titanic/data?select=train.csv"
   ]
  },
  {
   "cell_type": "markdown",
   "metadata": {},
   "source": [
    "### Preliminary exploratory data analysis\n",
    "paragraph..."
>>>>>>> 630a119ff55554edbabe206c2b14fa0a98b4d542
   ]
  },
  {
   "cell_type": "code",
   "execution_count": 28,
   "metadata": {},
   "outputs": [
    {
     "name": "stdout",
     "output_type": "stream",
     "text": [
      "{html_document}\n",
      "<html lang=\"en\">\n",
      "[1] <head>\\n<meta http-equiv=\"Content-Type\" content=\"text/html; charset=UTF-8 ...\n",
      "[2] <body data-turbolinks=\"false\">\\r\\n  <main><div id=\"site-container\"></div> ...\n"
     ]
    },
    {
     "data": {
      "text/html": [],
      "text/latex": [],
      "text/markdown": [],
      "text/plain": [
       "character(0)"
      ]
     },
     "metadata": {},
     "output_type": "display_data"
    },
    {
     "data": {
      "text/plain": [
       "{xml_missing}\n",
       "<NA>"
      ]
     },
     "metadata": {},
     "output_type": "display_data"
    }
   ],
   "source": [
    "source_url <- 'https://www.kaggle.com/competitions/titanic/data?select=train.csv'\n",
    "\n",
    "# your code here\n",
    "titanic_page = read_html(source_url)\n",
    "print(titanic_page)\n",
    "passenger_id = html_text(html_nodes(titanic_page, \"goUXdv\"))\n",
    "head(passenger_id)\n",
    "table_df = html_node(titanic_page, \"dBqziz\")\n",
    "#write_csv(table_df, \"data/training.csv\")\n",
    "\n",
    "table_df\n",
    "# doesnt work so far, trying to scrape the data table into here directly but it's very hard to as kaggle\n",
    "# has weird names for their components."
   ]
  },
  {
   "cell_type": "markdown",
   "metadata": {},
   "source": [
    "### Methods\n",
    "paragrpah..."
   ]
  },
  {
   "cell_type": "markdown",
   "metadata": {},
   "source": [
    "### Expected outcomes and significance\n",
    "What do you expect to find?\n",
    "What impact could such findings have?\n",
    "What future questions could this lead to?\n",
    "\n",
    "With this data analysis, we expect to find an accurate and repeatable model that can predict the survival statuses of past and future passengers of the Titanic or any cruise ships with similar levels of regulation. We expect to find that women and children of higher class have a higher survival rate than old men in the lower class.\n",
    "\n",
    "These findings could become good advertisement/marketing material for cruise companies to sell different levels of tickets (ex. business class, economy...) for future cruises. The very unlikely chance of a future cruise ship sinking could be a good motivator for passengers to buy more expensive tickets with their survival in mind. (very very immoral but truthful)\n",
    "\n",
    "The most realistic and unproven question we could ask using the results would be: Would the survival of a passenger on modern cruises be primarily affected by their age, sex, and class. We could use our model to try and predict the survival of passengers on other luxury mediums: Airplanes, Tourbusses, Observation towers."
   ]
  },
  {
   "cell_type": "code",
   "execution_count": null,
   "metadata": {},
   "outputs": [],
   "source": []
  },
  {
   "cell_type": "code",
   "execution_count": null,
   "metadata": {},
   "outputs": [],
   "source": []
  },
  {
   "cell_type": "code",
   "execution_count": null,
   "metadata": {},
   "outputs": [],
   "source": []
  }
 ],
 "metadata": {
  "kernelspec": {
   "display_name": "R",
   "language": "R",
   "name": "ir"
  },
  "language_info": {
   "codemirror_mode": "r",
   "file_extension": ".r",
   "mimetype": "text/x-r-source",
   "name": "R",
   "pygments_lexer": "r",
<<<<<<< HEAD
   "version": "4.3.2"
=======
   "version": "4.3.1"
>>>>>>> 630a119ff55554edbabe206c2b14fa0a98b4d542
  }
 },
 "nbformat": 4,
 "nbformat_minor": 4
}
