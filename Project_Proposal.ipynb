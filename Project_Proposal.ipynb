{
 "cells": [
  {
   "cell_type": "markdown",
   "metadata": {},
   "source": [
    "## Data Science Project Proposal"
   ]
  },
  {
   "cell_type": "markdown",
   "metadata": {},
   "source": [
    "### Introduction\n",
    "paragraph...\n",
    "\n",
    "Source of data: https://archive.ics.uci.edu/dataset/45/heart+disease\n",
    "(provided by course)"
   ]
  },
  {
   "cell_type": "markdown",
   "metadata": {},
   "source": [
    "### Preliminary Exploratory Data Analysis"
   ]
  },
  {
   "cell_type": "markdown",
   "metadata": {},
   "source": [
    "Importing the libraries needed for the project."
   ]
  },
  {
   "cell_type": "code",
   "execution_count": null,
   "metadata": {
    "vscode": {
     "languageId": "r"
    }
   },
   "outputs": [],
   "source": [
    "# install and import packages\n",
    "install.packages(c(\"languageserver\", \"repr\", \"tidymodels\", \"RColorBrewer\"))\n",
    "library(tidyverse)\n",
    "library(repr)\n",
    "library(tidymodels)\n",
    "library(RColorBrewer)"
   ]
  },
  {
   "cell_type": "markdown",
   "metadata": {},
   "source": [
    "Downloading and reading the <a href=\"https://archive.ics.uci.edu/dataset/45/heart+disease\">data</a>."
   ]
  },
  {
   "cell_type": "code",
   "execution_count": null,
   "metadata": {
    "vscode": {
     "languageId": "r"
    }
   },
   "outputs": [],
   "source": [
    "url <- \"https://archive.ics.uci.edu/static/public/45/heart+disease.zip\"\n",
    "dest <- \"data/file.zip\"\n",
    "\n",
    "# checks if the data file exists\n",
    "if (!dir.exists(\"data/\")) {\n",
    "  #creates the file if it doesn't exist\n",
    "  dir.create(\"data/\", recursive = TRUE)\n",
    "}\n",
    "\n",
    "# downloads the file from the url to data file\n",
    "download.file(url, dest)\n",
    "\n",
    "# unzips the file\n",
    "unzip(zipfile = dest,\n",
    "      files = \"processed.cleveland.data\",\n",
    "      exdir = \"data/\")\n",
    "\n",
    "data <- read_csv(\"data/processed.cleveland.data\", col_names = FALSE)\n",
    "head(data)"
   ]
  },
  {
   "cell_type": "markdown",
   "metadata": {},
   "source": []
  },
  {
   "cell_type": "markdown",
   "metadata": {},
   "source": [
    "### Methods\n",
    "\n",
    "This is just for deciding what variables to use:\n",
    "\n",
    "\n",
    "col_names = c(age, sex, cp, trestbps, chol, fbs, restecg, thalach, exang, oldpeak, slope, ca, thal, num) \n",
    "#for the prelim later\n",
    "\n",
    "age, sex, cholesterol, fasting blood sugar, rest ecg(heartrate and rhythm), thalac (max heart rate), exang (Exercise induced pain in chest), \n",
    "\n",
    "For ST in ECG: https://www.ncbi.nlm.nih.gov/books/NBK459364/\n",
    "oldpeak (not really sure, ST depression in electrocardiogram), slope (0 downsloping, 1 flat, >=2 upsloping), Coronary artery disease (0-3), thalassemia (abnormal blood cells (less hemoglobin)), number of heart diseases (i think)\n",
    "\n",
    "\n",
    "\n",
    "\n",
    "\n",
    "\n",
    "Age: age is the biggie\n",
    "\n",
    "Cholesterol: second biggie\n",
    "\n",
    "Thalach (Max heart rate): max heart rate during exercise is pretty big\n",
    "Rest ecg (rest heart behavior): pretty good determinant\n",
    "\n",
    "\n",
    "These are quantifiable values instead of intervals or 0, 1. These are also very big determinants of heart disease while others are either signals of\n",
    "related diseases or we can use as coefficients.\n",
    "\n",
    "l women.\r\n",
    "\r\n",
    "Oldpeak (ST depression in electrocardiogram): ST depression on an ECG during exercise can indicate inadequate blood flow to the heart, suggesting coronary art\n",
    "\n",
    "Sex: Men have higher risk, but again this is a flat coefficient we can multiply inery disease.\r\n",
    "\r\n",
    "Exang (Exercise-inducedagain, just a flat coefficient 0 or 1\n",
    "\n",
    "Coronary arteries (0-3): big but also in intervals and rarer (many will have 0)he\n",
    "# We want to use num as the strata\n",
    "# We may want to use the variables, age, chol, fbs, and trestbps \n",
    "\n",
    "heart disease.\n",
    "\n",
    "\n",
    "\n"
   ]
  },
  {
   "cell_type": "markdown",
   "metadata": {},
   "source": [
    "### Expected Outcomes And Significance\n",
    "paragraph..."
   ]
  },
  {
   "cell_type": "code",
   "execution_count": null,
   "metadata": {},
   "outputs": [],
   "source": []
  },
  {
   "cell_type": "code",
   "execution_count": null,
   "metadata": {},
   "outputs": [],
   "source": []
  },
  {
   "cell_type": "code",
   "execution_count": null,
   "metadata": {},
   "outputs": [],
   "source": []
  },
  {
   "cell_type": "code",
   "execution_count": null,
   "metadata": {},
   "outputs": [],
   "source": []
  }
 ],
 "metadata": {
  "kernelspec": {
   "display_name": "R",
   "language": "R",
   "name": "ir"
  },
  "language_info": {
   "codemirror_mode": "r",
   "file_extension": ".r",
   "mimetype": "text/x-r-source",
   "name": "R",
   "pygments_lexer": "r",
   "version": "4.3.1"
  }
 },
 "nbformat": 4,
 "nbformat_minor": 4
}
