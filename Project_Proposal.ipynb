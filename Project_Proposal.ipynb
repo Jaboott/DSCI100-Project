{
 "cells": [
  {
   "cell_type": "markdown",
   "metadata": {},
   "source": [
    "## Data Science Project Proposal"
   ]
  },
  {
   "cell_type": "markdown",
   "metadata": {},
   "source": [
    "### Introduction\n",
    "Provide some relevant background information on the topic so that someone unfamiliar with it will be prepared to understand the rest of your proposal Clearly state the question you will try to answer with your project Identify and describe the dataset that will be used to answer the question\n",
    "\n",
    "According to the NY Department of Health, 1 in 5 people die from heart disease. But, while heart disease is a major problem to billions of people worldwide, there are medical treatments for most types of heart disease if discovered early. This is the importance of investigating factors that lead to the development of heart disease. We can use We aim to use classification modelling Is it possible to predict an individual's chances of developing heart disease using their medical test data? (looking at their age, cholesterol, blood sugar, and resting heart rate?)"
   ]
  },
  {
   "cell_type": "markdown",
   "metadata": {},
   "source": [
    "### Preliminary Exploratory Data Analysis"
   ]
  },
  {
   "cell_type": "markdown",
   "metadata": {},
   "source": [
    "Importing the libraries needed for the project."
   ]
  },
  {
   "cell_type": "code",
   "execution_count": 25,
   "metadata": {
    "vscode": {
     "languageId": "r"
    }
   },
   "outputs": [
    {
     "name": "stderr",
     "output_type": "stream",
     "text": [
      "Warning message:\n",
      "\"packages 'repr', 'tidymodels', 'RColorBrewer' are in use and will not be installed\"\n",
      "Installing package into 'C:/Users/Jason/AppData/Local/R/win-library/4.3'\n",
      "(as 'lib' is unspecified)\n",
      "\n"
     ]
    },
    {
     "name": "stdout",
     "output_type": "stream",
     "text": [
      "package 'languageserver' successfully unpacked and MD5 sums checked\n"
     ]
    },
    {
     "name": "stderr",
     "output_type": "stream",
     "text": [
      "Warning message:\n",
      "\"cannot remove prior installation of package 'languageserver'\"\n",
      "Warning message in file.copy(savedcopy, lib, recursive = TRUE):\n",
      "\"problem copying C:\\Users\\Jason\\AppData\\Local\\R\\win-library\\4.3\\00LOCK\\languageserver\\libs\\x64\\languageserver.dll to C:\\Users\\Jason\\AppData\\Local\\R\\win-library\\4.3\\languageserver\\libs\\x64\\languageserver.dll: Permission denied\"\n",
      "Warning message:\n",
      "\"restored 'languageserver'\"\n"
     ]
    },
    {
     "name": "stdout",
     "output_type": "stream",
     "text": [
      "\n",
      "The downloaded binary packages are in\n",
      "\tC:\\Users\\Jason\\AppData\\Local\\Temp\\RtmpMRwU2E\\downloaded_packages\n"
     ]
    }
   ],
   "source": [
    "# install and import packages\n",
    "install.packages(c(\"languageserver\", \"repr\", \"tidymodels\", \"RColorBrewer\"))\n",
    "library(tidyverse)\n",
    "library(repr)\n",
    "library(tidymodels)\n",
    "library(RColorBrewer)"
   ]
  },
  {
   "cell_type": "markdown",
   "metadata": {},
   "source": [
    "Downloading and reading the <a href=\"https://archive.ics.uci.edu/dataset/45/heart+disease\">data</a>."
   ]
  },
  {
   "cell_type": "code",
   "execution_count": 26,
   "metadata": {
    "vscode": {
     "languageId": "r"
    }
   },
   "outputs": [
    {
     "name": "stderr",
     "output_type": "stream",
     "text": [
      "\u001b[1mRows: \u001b[22m\u001b[34m303\u001b[39m \u001b[1mColumns: \u001b[22m\u001b[34m14\u001b[39m\n",
      "\u001b[36m──\u001b[39m \u001b[1mColumn specification\u001b[22m \u001b[36m────────────────────────────────────────────────────────\u001b[39m\n",
      "\u001b[1mDelimiter:\u001b[22m \",\"\n",
      "\u001b[31mchr\u001b[39m  (2): ca, thal\n",
      "\u001b[32mdbl\u001b[39m (12): age, sex, cp, trestbps, chol, fbs, restecg, thalach, exang, oldpea...\n",
      "\n",
      "\u001b[36mℹ\u001b[39m Use `spec()` to retrieve the full column specification for this data.\n",
      "\u001b[36mℹ\u001b[39m Specify the column types or set `show_col_types = FALSE` to quiet this message.\n"
     ]
    }
   ],
   "source": [
    "url <- \"https://archive.ics.uci.edu/static/public/45/heart+disease.zip\"\n",
    "dest <- \"data/file.zip\"\n",
    "\n",
    "# checks if the data file exists\n",
    "if (!dir.exists(\"data/\")) {\n",
    "  #creates the file if it doesn't exist\n",
    "  dir.create(\"data/\", recursive = TRUE)\n",
    "}\n",
    "\n",
    "# downloads the file from the url to data file\n",
    "download.file(url, dest)\n",
    "\n",
    "# unzips the file\n",
    "unzip(zipfile = dest,\n",
    "      files = \"processed.cleveland.data\",\n",
    "      exdir = \"data/\")\n",
    "\n",
    "# added column names to the data\n",
    "cleveland_data_col_names <- c(\"age\",\n",
    "                              \"sex\",\n",
    "                              \"cp\",\n",
    "                              \"trestbps\",\n",
    "                              \"chol\", \"fbs\",\n",
    "                              \"restecg\", \"thalach\",\n",
    "                              \"exang\",\n",
    "                              \"oldpeak\",\n",
    "                              \"slope\",\n",
    "                              \"ca\",\n",
    "                              \"thal\",\n",
    "                              \"num\")\n",
    "\n",
    "# reading the data by csv\n",
    "cleveland_data <- read_csv(\"data/processed.cleveland.data\",\n",
    "                           col_names = cleveland_data_col_names)"
   ]
  },
  {
   "cell_type": "markdown",
   "metadata": {},
   "source": [
    "#### Describing The Data\n",
    "\n",
    "**Which features are available in the dataset?**"
   ]
  },
  {
   "cell_type": "code",
   "execution_count": 27,
   "metadata": {
    "vscode": {
     "languageId": "r"
    }
   },
   "outputs": [
    {
     "name": "stdout",
     "output_type": "stream",
     "text": [
      " [1] \"age\"      \"sex\"      \"cp\"       \"trestbps\" \"chol\"     \"fbs\"     \n",
      " [7] \"restecg\"  \"thalach\"  \"exang\"    \"oldpeak\"  \"slope\"    \"ca\"      \n",
      "[13] \"thal\"     \"num\"     \n"
     ]
    }
   ],
   "source": [
    "# taking a look at the features in the dataset\n",
    "print(cleveland_data_col_names)"
   ]
  },
  {
   "cell_type": "markdown",
   "metadata": {},
   "source": [
    "**What type of data is in the dataset?**\n",
    "- All of the variables in the dataset is already split into dbl and chr type."
   ]
  },
  {
   "cell_type": "code",
   "execution_count": 28,
   "metadata": {
    "vscode": {
     "languageId": "r"
    }
   },
   "outputs": [
    {
     "name": "stdout",
     "output_type": "stream",
     "text": [
      "Rows: 303\n",
      "Columns: 14\n",
      "$ age      \u001b[3m\u001b[90m<dbl>\u001b[39m\u001b[23m 63, 67, 67, 37, 41, 56, 62, 57, 63, 53, 57, 56, 56, 44, 52, 5…\n",
      "$ sex      \u001b[3m\u001b[90m<dbl>\u001b[39m\u001b[23m 1, 1, 1, 1, 0, 1, 0, 0, 1, 1, 1, 0, 1, 1, 1, 1, 1, 1, 0, 1, 1…\n",
      "$ cp       \u001b[3m\u001b[90m<dbl>\u001b[39m\u001b[23m 1, 4, 4, 3, 2, 2, 4, 4, 4, 4, 4, 2, 3, 2, 3, 3, 2, 4, 3, 2, 1…\n",
      "$ trestbps \u001b[3m\u001b[90m<dbl>\u001b[39m\u001b[23m 145, 160, 120, 130, 130, 120, 140, 120, 130, 140, 140, 140, 1…\n",
      "$ chol     \u001b[3m\u001b[90m<dbl>\u001b[39m\u001b[23m 233, 286, 229, 250, 204, 236, 268, 354, 254, 203, 192, 294, 2…\n",
      "$ fbs      \u001b[3m\u001b[90m<dbl>\u001b[39m\u001b[23m 1, 0, 0, 0, 0, 0, 0, 0, 0, 1, 0, 0, 1, 0, 1, 0, 0, 0, 0, 0, 0…\n",
      "$ restecg  \u001b[3m\u001b[90m<dbl>\u001b[39m\u001b[23m 2, 2, 2, 0, 2, 0, 2, 0, 2, 2, 0, 2, 2, 0, 0, 0, 0, 0, 0, 0, 2…\n",
      "$ thalach  \u001b[3m\u001b[90m<dbl>\u001b[39m\u001b[23m 150, 108, 129, 187, 172, 178, 160, 163, 147, 155, 148, 153, 1…\n",
      "$ exang    \u001b[3m\u001b[90m<dbl>\u001b[39m\u001b[23m 0, 1, 1, 0, 0, 0, 0, 1, 0, 1, 0, 0, 1, 0, 0, 0, 0, 0, 0, 0, 1…\n",
      "$ oldpeak  \u001b[3m\u001b[90m<dbl>\u001b[39m\u001b[23m 2.3, 1.5, 2.6, 3.5, 1.4, 0.8, 3.6, 0.6, 1.4, 3.1, 0.4, 1.3, 0…\n",
      "$ slope    \u001b[3m\u001b[90m<dbl>\u001b[39m\u001b[23m 3, 2, 2, 3, 1, 1, 3, 1, 2, 3, 2, 2, 2, 1, 1, 1, 3, 1, 1, 1, 2…\n",
      "$ ca       \u001b[3m\u001b[90m<chr>\u001b[39m\u001b[23m \"0.0\", \"3.0\", \"2.0\", \"0.0\", \"0.0\", \"0.0\", \"2.0\", \"0.0\", \"1.0\"…\n",
      "$ thal     \u001b[3m\u001b[90m<chr>\u001b[39m\u001b[23m \"6.0\", \"3.0\", \"7.0\", \"3.0\", \"3.0\", \"3.0\", \"3.0\", \"3.0\", \"7.0\"…\n",
      "$ num      \u001b[3m\u001b[90m<dbl>\u001b[39m\u001b[23m 0, 2, 1, 0, 0, 0, 3, 0, 2, 1, 0, 0, 2, 0, 0, 0, 1, 0, 0, 0, 0…\n"
     ]
    }
   ],
   "source": [
    "# taking a look at the data patterns\n",
    "glimpse(cleveland_data)"
   ]
  },
  {
   "cell_type": "markdown",
   "metadata": {},
   "source": [
    "**Are there feature containing missing data?**\n",
    "- There are missing data in the `ca` and `thal` column"
   ]
  },
  {
   "cell_type": "code",
   "execution_count": 29,
   "metadata": {
    "vscode": {
     "languageId": "r"
    }
   },
   "outputs": [
    {
     "name": "stdout",
     "output_type": "stream",
     "text": [
      "\u001b[90m# A tibble: 14 × 5\u001b[39m\n",
      "   ColumnName NumNulls NumNAs TotalMissing ColumnType\n",
      "   \u001b[3m\u001b[90m<chr>\u001b[39m\u001b[23m         \u001b[3m\u001b[90m<dbl>\u001b[39m\u001b[23m  \u001b[3m\u001b[90m<dbl>\u001b[39m\u001b[23m        \u001b[3m\u001b[90m<dbl>\u001b[39m\u001b[23m \u001b[3m\u001b[90m<chr>\u001b[39m\u001b[23m     \n",
      "\u001b[90m 1\u001b[39m age               0      0            0 numeric   \n",
      "\u001b[90m 2\u001b[39m sex               0      0            0 numeric   \n",
      "\u001b[90m 3\u001b[39m cp                0      0            0 numeric   \n",
      "\u001b[90m 4\u001b[39m trestbps          0      0            0 numeric   \n",
      "\u001b[90m 5\u001b[39m chol              0      0            0 numeric   \n",
      "\u001b[90m 6\u001b[39m fbs               0      0            0 numeric   \n",
      "\u001b[90m 7\u001b[39m restecg           0      0            0 numeric   \n",
      "\u001b[90m 8\u001b[39m thalach           0      0            0 numeric   \n",
      "\u001b[90m 9\u001b[39m exang             0      0            0 numeric   \n",
      "\u001b[90m10\u001b[39m oldpeak           0      0            0 numeric   \n",
      "\u001b[90m11\u001b[39m slope             0      0            0 numeric   \n",
      "\u001b[90m12\u001b[39m ca                4      0            4 character \n",
      "\u001b[90m13\u001b[39m thal              2      0            2 character \n",
      "\u001b[90m14\u001b[39m num               0      0            0 numeric   \n"
     ]
    }
   ],
   "source": [
    "# making a tibble with column type and the number of nulls in each column\n",
    "cleveland_summary <- tibble(\n",
    "  ColumnName = cleveland_data_col_names,\n",
    "  NumNulls = map_dbl(cleveland_data, ~sum(.x == \"?\", na.rm = TRUE)),\n",
    "  NumNAs = map_dbl(cleveland_data, ~sum(is.na(.x))),\n",
    "  TotalMissing = map_dbl(cleveland_data,\n",
    "                         ~sum(.x == \"?\", na.rm = TRUE) + sum(is.na(.x))),\n",
    "  ColumnType = map_chr(cleveland_data, ~class(.x))\n",
    ")\n",
    "print(cleveland_summary)"
   ]
  },
  {
   "cell_type": "markdown",
   "metadata": {},
   "source": [
    "**What are the unique values of each column?**\n",
    "\n",
    "From this, we found that the columns: `sex`, `cp`, `fbs`, `restecg`, `exang`, `slope`, `ca`, `thal`, and `num` is originally represented as categorical variables."
   ]
  },
  {
   "cell_type": "code",
   "execution_count": 30,
   "metadata": {
    "vscode": {
     "languageId": "r"
    }
   },
   "outputs": [
    {
     "name": "stdout",
     "output_type": "stream",
     "text": [
      "$sex\n",
      "[1] 1 0\n",
      "\n",
      "$cp\n",
      "[1] 1 4 3 2\n",
      "\n",
      "$fbs\n",
      "[1] 1 0\n",
      "\n",
      "$restecg\n",
      "[1] 2 0 1\n",
      "\n",
      "$exang\n",
      "[1] 0 1\n",
      "\n",
      "$slope\n",
      "[1] 3 2 1\n",
      "\n",
      "$ca\n",
      "[1] \"0.0\" \"3.0\" \"2.0\" \"1.0\" \"?\"  \n",
      "\n",
      "$thal\n",
      "[1] \"6.0\" \"3.0\" \"7.0\" \"?\"  \n",
      "\n",
      "$num\n",
      "[1] 0 2 1 3 4\n",
      "\n"
     ]
    }
   ],
   "source": [
    "# Get all the unique values per column\n",
    "cleveland_unique <- lapply(cleveland_data, unique)\n",
    "\n",
    "# counts the number of different uniques per column\n",
    "unique_counts <- sapply(cleveland_unique, length)\n",
    "\n",
    "# only keep the columns where theres less than 10 uniques\n",
    "cleveland_unique <- cleveland_unique[unique_counts < 10]\n",
    "\n",
    "print(cleveland_unique)"
   ]
  },
  {
   "cell_type": "markdown",
   "metadata": {},
   "source": [
    "#### Data Transformation"
   ]
  },
  {
   "cell_type": "markdown",
   "metadata": {},
   "source": [
    "**Transforming the `ca` and `thal` column to dbl.**"
   ]
  },
  {
   "cell_type": "code",
   "execution_count": 31,
   "metadata": {
    "vscode": {
     "languageId": "r"
    }
   },
   "outputs": [
    {
     "name": "stderr",
     "output_type": "stream",
     "text": [
      "Warning message:\n",
      "\"\u001b[1m\u001b[22mThere were 2 warnings in `mutate()`.\n",
      "The first warning was:\n",
      "\u001b[1m\u001b[22m\u001b[36mℹ\u001b[39m In argument: `ca = as.numeric(ca)`.\n",
      "Caused by warning:\n",
      "\u001b[33m!\u001b[39m NAs introduced by coercion\n",
      "\u001b[1m\u001b[22m\u001b[36mℹ\u001b[39m Run `dplyr::last_dplyr_warnings()` to see the 1 remaining warning.\"\n"
     ]
    },
    {
     "data": {
      "text/html": [
       "<table class=\"dataframe\">\n",
       "<caption>A tibble: 6 × 14</caption>\n",
       "<thead>\n",
       "\t<tr><th scope=col>age</th><th scope=col>sex</th><th scope=col>cp</th><th scope=col>trestbps</th><th scope=col>chol</th><th scope=col>fbs</th><th scope=col>restecg</th><th scope=col>thalach</th><th scope=col>exang</th><th scope=col>oldpeak</th><th scope=col>slope</th><th scope=col>ca</th><th scope=col>thal</th><th scope=col>num</th></tr>\n",
       "\t<tr><th scope=col>&lt;dbl&gt;</th><th scope=col>&lt;dbl&gt;</th><th scope=col>&lt;dbl&gt;</th><th scope=col>&lt;dbl&gt;</th><th scope=col>&lt;dbl&gt;</th><th scope=col>&lt;dbl&gt;</th><th scope=col>&lt;dbl&gt;</th><th scope=col>&lt;dbl&gt;</th><th scope=col>&lt;dbl&gt;</th><th scope=col>&lt;dbl&gt;</th><th scope=col>&lt;dbl&gt;</th><th scope=col>&lt;dbl&gt;</th><th scope=col>&lt;dbl&gt;</th><th scope=col>&lt;dbl&gt;</th></tr>\n",
       "</thead>\n",
       "<tbody>\n",
       "\t<tr><td>63</td><td>1</td><td>1</td><td>145</td><td>233</td><td>1</td><td>2</td><td>150</td><td>0</td><td>2.3</td><td>3</td><td>0</td><td>6</td><td>0</td></tr>\n",
       "\t<tr><td>67</td><td>1</td><td>4</td><td>160</td><td>286</td><td>0</td><td>2</td><td>108</td><td>1</td><td>1.5</td><td>2</td><td>3</td><td>3</td><td>2</td></tr>\n",
       "\t<tr><td>67</td><td>1</td><td>4</td><td>120</td><td>229</td><td>0</td><td>2</td><td>129</td><td>1</td><td>2.6</td><td>2</td><td>2</td><td>7</td><td>1</td></tr>\n",
       "\t<tr><td>37</td><td>1</td><td>3</td><td>130</td><td>250</td><td>0</td><td>0</td><td>187</td><td>0</td><td>3.5</td><td>3</td><td>0</td><td>3</td><td>0</td></tr>\n",
       "\t<tr><td>41</td><td>0</td><td>2</td><td>130</td><td>204</td><td>0</td><td>2</td><td>172</td><td>0</td><td>1.4</td><td>1</td><td>0</td><td>3</td><td>0</td></tr>\n",
       "\t<tr><td>56</td><td>1</td><td>2</td><td>120</td><td>236</td><td>0</td><td>0</td><td>178</td><td>0</td><td>0.8</td><td>1</td><td>0</td><td>3</td><td>0</td></tr>\n",
       "</tbody>\n",
       "</table>\n"
      ],
      "text/latex": [
       "A tibble: 6 × 14\n",
       "\\begin{tabular}{llllllllllllll}\n",
       " age & sex & cp & trestbps & chol & fbs & restecg & thalach & exang & oldpeak & slope & ca & thal & num\\\\\n",
       " <dbl> & <dbl> & <dbl> & <dbl> & <dbl> & <dbl> & <dbl> & <dbl> & <dbl> & <dbl> & <dbl> & <dbl> & <dbl> & <dbl>\\\\\n",
       "\\hline\n",
       "\t 63 & 1 & 1 & 145 & 233 & 1 & 2 & 150 & 0 & 2.3 & 3 & 0 & 6 & 0\\\\\n",
       "\t 67 & 1 & 4 & 160 & 286 & 0 & 2 & 108 & 1 & 1.5 & 2 & 3 & 3 & 2\\\\\n",
       "\t 67 & 1 & 4 & 120 & 229 & 0 & 2 & 129 & 1 & 2.6 & 2 & 2 & 7 & 1\\\\\n",
       "\t 37 & 1 & 3 & 130 & 250 & 0 & 0 & 187 & 0 & 3.5 & 3 & 0 & 3 & 0\\\\\n",
       "\t 41 & 0 & 2 & 130 & 204 & 0 & 2 & 172 & 0 & 1.4 & 1 & 0 & 3 & 0\\\\\n",
       "\t 56 & 1 & 2 & 120 & 236 & 0 & 0 & 178 & 0 & 0.8 & 1 & 0 & 3 & 0\\\\\n",
       "\\end{tabular}\n"
      ],
      "text/markdown": [
       "\n",
       "A tibble: 6 × 14\n",
       "\n",
       "| age &lt;dbl&gt; | sex &lt;dbl&gt; | cp &lt;dbl&gt; | trestbps &lt;dbl&gt; | chol &lt;dbl&gt; | fbs &lt;dbl&gt; | restecg &lt;dbl&gt; | thalach &lt;dbl&gt; | exang &lt;dbl&gt; | oldpeak &lt;dbl&gt; | slope &lt;dbl&gt; | ca &lt;dbl&gt; | thal &lt;dbl&gt; | num &lt;dbl&gt; |\n",
       "|---|---|---|---|---|---|---|---|---|---|---|---|---|---|\n",
       "| 63 | 1 | 1 | 145 | 233 | 1 | 2 | 150 | 0 | 2.3 | 3 | 0 | 6 | 0 |\n",
       "| 67 | 1 | 4 | 160 | 286 | 0 | 2 | 108 | 1 | 1.5 | 2 | 3 | 3 | 2 |\n",
       "| 67 | 1 | 4 | 120 | 229 | 0 | 2 | 129 | 1 | 2.6 | 2 | 2 | 7 | 1 |\n",
       "| 37 | 1 | 3 | 130 | 250 | 0 | 0 | 187 | 0 | 3.5 | 3 | 0 | 3 | 0 |\n",
       "| 41 | 0 | 2 | 130 | 204 | 0 | 2 | 172 | 0 | 1.4 | 1 | 0 | 3 | 0 |\n",
       "| 56 | 1 | 2 | 120 | 236 | 0 | 0 | 178 | 0 | 0.8 | 1 | 0 | 3 | 0 |\n",
       "\n"
      ],
      "text/plain": [
       "  age sex cp trestbps chol fbs restecg thalach exang oldpeak slope ca thal num\n",
       "1 63  1   1  145      233  1   2       150     0     2.3     3     0  6    0  \n",
       "2 67  1   4  160      286  0   2       108     1     1.5     2     3  3    2  \n",
       "3 67  1   4  120      229  0   2       129     1     2.6     2     2  7    1  \n",
       "4 37  1   3  130      250  0   0       187     0     3.5     3     0  3    0  \n",
       "5 41  0   2  130      204  0   2       172     0     1.4     1     0  3    0  \n",
       "6 56  1   2  120      236  0   0       178     0     0.8     1     0  3    0  "
      ]
     },
     "metadata": {},
     "output_type": "display_data"
    }
   ],
   "source": [
    "cleveland_data <- cleveland_data |>\n",
    "  mutate(ca = as.numeric(ca),\n",
    "         thal = as.numeric(thal))\n",
    "head(cleveland_data)"
   ]
  },
  {
   "cell_type": "markdown",
   "metadata": {},
   "source": [
    "**Remove the rows containing NA or ?**"
   ]
  },
  {
   "cell_type": "code",
   "execution_count": 32,
   "metadata": {
    "vscode": {
     "languageId": "r"
    }
   },
   "outputs": [
    {
     "name": "stdout",
     "output_type": "stream",
     "text": [
      "\u001b[90m# A tibble: 14 × 5\u001b[39m\n",
      "   ColumnName NumNulls NumNAs TotalMissing ColumnType\n",
      "   \u001b[3m\u001b[90m<chr>\u001b[39m\u001b[23m         \u001b[3m\u001b[90m<dbl>\u001b[39m\u001b[23m  \u001b[3m\u001b[90m<dbl>\u001b[39m\u001b[23m        \u001b[3m\u001b[90m<dbl>\u001b[39m\u001b[23m \u001b[3m\u001b[90m<chr>\u001b[39m\u001b[23m     \n",
      "\u001b[90m 1\u001b[39m age               0      0            0 numeric   \n",
      "\u001b[90m 2\u001b[39m sex               0      0            0 numeric   \n",
      "\u001b[90m 3\u001b[39m cp                0      0            0 numeric   \n",
      "\u001b[90m 4\u001b[39m trestbps          0      0            0 numeric   \n",
      "\u001b[90m 5\u001b[39m chol              0      0            0 numeric   \n",
      "\u001b[90m 6\u001b[39m fbs               0      0            0 numeric   \n",
      "\u001b[90m 7\u001b[39m restecg           0      0            0 numeric   \n",
      "\u001b[90m 8\u001b[39m thalach           0      0            0 numeric   \n",
      "\u001b[90m 9\u001b[39m exang             0      0            0 numeric   \n",
      "\u001b[90m10\u001b[39m oldpeak           0      0            0 numeric   \n",
      "\u001b[90m11\u001b[39m slope             0      0            0 numeric   \n",
      "\u001b[90m12\u001b[39m ca                0      0            0 numeric   \n",
      "\u001b[90m13\u001b[39m thal              0      0            0 numeric   \n",
      "\u001b[90m14\u001b[39m num               0      0            0 numeric   \n"
     ]
    }
   ],
   "source": [
    "# filtering the dataset so only the column without NA remains\n",
    "cleveland_filtered <- cleveland_data %>%\n",
    "  filter(!if_any(everything(), is.na))\n",
    "\n",
    "# making a tibble with column type and the number of nulls\n",
    "# in each column to make sure Na is removed\n",
    "cleveland_summary <- tibble(\n",
    "  ColumnName = cleveland_data_col_names,\n",
    "  NumNulls = map_dbl(cleveland_filtered, ~sum(.x == \"?\", na.rm = TRUE)),\n",
    "  NumNAs = map_dbl(cleveland_filtered, ~sum(is.na(.x))),\n",
    "  TotalMissing = map_dbl(cleveland_filtered,\n",
    "                         ~sum(.x == \"?\", na.rm = TRUE) + sum(is.na(.x))),\n",
    "  ColumnType = map_chr(cleveland_filtered, ~class(.x))\n",
    ")\n",
    "print(cleveland_summary)"
   ]
  },
  {
   "cell_type": "markdown",
   "metadata": {},
   "source": [
    "**Transforming the `num` column into 0 and 1**\n",
    "- Since `num` is what we are trying to predict, we want to have it in a categorical format.\n",
    "- In `num`, any number greater than 0 represents diagnosis of coronary artery disease"
   ]
  },
  {
   "cell_type": "code",
   "execution_count": 33,
   "metadata": {
    "vscode": {
     "languageId": "r"
    }
   },
   "outputs": [
    {
     "name": "stdout",
     "output_type": "stream",
     "text": [
      "[1] 0 1\n"
     ]
    }
   ],
   "source": [
    "# turn num into either 0 or 1\n",
    "cleveland_filtered <- cleveland_filtered |>\n",
    "  mutate(num = ifelse(num > 0, 1, 0))\n",
    "\n",
    "print(unique(cleveland_filtered$num))"
   ]
  },
  {
   "cell_type": "markdown",
   "metadata": {},
   "source": [
    "**Turning `num` into a factor**\n",
    "- Positive for when num > 0\n",
    "- Negative for when num = 0"
   ]
  },
  {
   "cell_type": "code",
   "execution_count": 34,
   "metadata": {
    "vscode": {
     "languageId": "r"
    }
   },
   "outputs": [
    {
     "data": {
      "text/html": [
       "<table class=\"dataframe\">\n",
       "<caption>A tibble: 6 × 14</caption>\n",
       "<thead>\n",
       "\t<tr><th scope=col>age</th><th scope=col>sex</th><th scope=col>cp</th><th scope=col>trestbps</th><th scope=col>chol</th><th scope=col>fbs</th><th scope=col>restecg</th><th scope=col>thalach</th><th scope=col>exang</th><th scope=col>oldpeak</th><th scope=col>slope</th><th scope=col>ca</th><th scope=col>thal</th><th scope=col>num</th></tr>\n",
       "\t<tr><th scope=col>&lt;dbl&gt;</th><th scope=col>&lt;dbl&gt;</th><th scope=col>&lt;dbl&gt;</th><th scope=col>&lt;dbl&gt;</th><th scope=col>&lt;dbl&gt;</th><th scope=col>&lt;dbl&gt;</th><th scope=col>&lt;dbl&gt;</th><th scope=col>&lt;dbl&gt;</th><th scope=col>&lt;dbl&gt;</th><th scope=col>&lt;dbl&gt;</th><th scope=col>&lt;dbl&gt;</th><th scope=col>&lt;dbl&gt;</th><th scope=col>&lt;dbl&gt;</th><th scope=col>&lt;fct&gt;</th></tr>\n",
       "</thead>\n",
       "<tbody>\n",
       "\t<tr><td>63</td><td>1</td><td>1</td><td>145</td><td>233</td><td>1</td><td>2</td><td>150</td><td>0</td><td>2.3</td><td>3</td><td>0</td><td>6</td><td>Negative</td></tr>\n",
       "\t<tr><td>67</td><td>1</td><td>4</td><td>160</td><td>286</td><td>0</td><td>2</td><td>108</td><td>1</td><td>1.5</td><td>2</td><td>3</td><td>3</td><td>Positive</td></tr>\n",
       "\t<tr><td>67</td><td>1</td><td>4</td><td>120</td><td>229</td><td>0</td><td>2</td><td>129</td><td>1</td><td>2.6</td><td>2</td><td>2</td><td>7</td><td>Positive</td></tr>\n",
       "\t<tr><td>37</td><td>1</td><td>3</td><td>130</td><td>250</td><td>0</td><td>0</td><td>187</td><td>0</td><td>3.5</td><td>3</td><td>0</td><td>3</td><td>Negative</td></tr>\n",
       "\t<tr><td>41</td><td>0</td><td>2</td><td>130</td><td>204</td><td>0</td><td>2</td><td>172</td><td>0</td><td>1.4</td><td>1</td><td>0</td><td>3</td><td>Negative</td></tr>\n",
       "\t<tr><td>56</td><td>1</td><td>2</td><td>120</td><td>236</td><td>0</td><td>0</td><td>178</td><td>0</td><td>0.8</td><td>1</td><td>0</td><td>3</td><td>Negative</td></tr>\n",
       "</tbody>\n",
       "</table>\n"
      ],
      "text/latex": [
       "A tibble: 6 × 14\n",
       "\\begin{tabular}{llllllllllllll}\n",
       " age & sex & cp & trestbps & chol & fbs & restecg & thalach & exang & oldpeak & slope & ca & thal & num\\\\\n",
       " <dbl> & <dbl> & <dbl> & <dbl> & <dbl> & <dbl> & <dbl> & <dbl> & <dbl> & <dbl> & <dbl> & <dbl> & <dbl> & <fct>\\\\\n",
       "\\hline\n",
       "\t 63 & 1 & 1 & 145 & 233 & 1 & 2 & 150 & 0 & 2.3 & 3 & 0 & 6 & Negative\\\\\n",
       "\t 67 & 1 & 4 & 160 & 286 & 0 & 2 & 108 & 1 & 1.5 & 2 & 3 & 3 & Positive\\\\\n",
       "\t 67 & 1 & 4 & 120 & 229 & 0 & 2 & 129 & 1 & 2.6 & 2 & 2 & 7 & Positive\\\\\n",
       "\t 37 & 1 & 3 & 130 & 250 & 0 & 0 & 187 & 0 & 3.5 & 3 & 0 & 3 & Negative\\\\\n",
       "\t 41 & 0 & 2 & 130 & 204 & 0 & 2 & 172 & 0 & 1.4 & 1 & 0 & 3 & Negative\\\\\n",
       "\t 56 & 1 & 2 & 120 & 236 & 0 & 0 & 178 & 0 & 0.8 & 1 & 0 & 3 & Negative\\\\\n",
       "\\end{tabular}\n"
      ],
      "text/markdown": [
       "\n",
       "A tibble: 6 × 14\n",
       "\n",
       "| age &lt;dbl&gt; | sex &lt;dbl&gt; | cp &lt;dbl&gt; | trestbps &lt;dbl&gt; | chol &lt;dbl&gt; | fbs &lt;dbl&gt; | restecg &lt;dbl&gt; | thalach &lt;dbl&gt; | exang &lt;dbl&gt; | oldpeak &lt;dbl&gt; | slope &lt;dbl&gt; | ca &lt;dbl&gt; | thal &lt;dbl&gt; | num &lt;fct&gt; |\n",
       "|---|---|---|---|---|---|---|---|---|---|---|---|---|---|\n",
       "| 63 | 1 | 1 | 145 | 233 | 1 | 2 | 150 | 0 | 2.3 | 3 | 0 | 6 | Negative |\n",
       "| 67 | 1 | 4 | 160 | 286 | 0 | 2 | 108 | 1 | 1.5 | 2 | 3 | 3 | Positive |\n",
       "| 67 | 1 | 4 | 120 | 229 | 0 | 2 | 129 | 1 | 2.6 | 2 | 2 | 7 | Positive |\n",
       "| 37 | 1 | 3 | 130 | 250 | 0 | 0 | 187 | 0 | 3.5 | 3 | 0 | 3 | Negative |\n",
       "| 41 | 0 | 2 | 130 | 204 | 0 | 2 | 172 | 0 | 1.4 | 1 | 0 | 3 | Negative |\n",
       "| 56 | 1 | 2 | 120 | 236 | 0 | 0 | 178 | 0 | 0.8 | 1 | 0 | 3 | Negative |\n",
       "\n"
      ],
      "text/plain": [
       "  age sex cp trestbps chol fbs restecg thalach exang oldpeak slope ca thal\n",
       "1 63  1   1  145      233  1   2       150     0     2.3     3     0  6   \n",
       "2 67  1   4  160      286  0   2       108     1     1.5     2     3  3   \n",
       "3 67  1   4  120      229  0   2       129     1     2.6     2     2  7   \n",
       "4 37  1   3  130      250  0   0       187     0     3.5     3     0  3   \n",
       "5 41  0   2  130      204  0   2       172     0     1.4     1     0  3   \n",
       "6 56  1   2  120      236  0   0       178     0     0.8     1     0  3   \n",
       "  num     \n",
       "1 Negative\n",
       "2 Positive\n",
       "3 Positive\n",
       "4 Negative\n",
       "5 Negative\n",
       "6 Negative"
      ]
     },
     "metadata": {},
     "output_type": "display_data"
    }
   ],
   "source": [
    "# using num as a factor and renaming the categories\n",
    "cleveland_filtered <- cleveland_filtered |>\n",
    "  mutate(num = as_factor(num)) |>\n",
    "  mutate(num = fct_recode(num, \"Positive\" = \"1\", \"Negative\" = \"0\"))\n",
    "\n",
    "head(cleveland_filtered)"
   ]
  },
  {
   "cell_type": "markdown",
   "metadata": {},
   "source": [
    "#### Splitting Data"
   ]
  },
  {
   "cell_type": "markdown",
   "metadata": {},
   "source": [
    "**Before we start with the feature selection, we will split the data into train test splits to avoid breaking the golden rule.**\n",
    "\n",
    "**This ensures that the feature selection is influenced only by the training data.**"
   ]
  },
  {
   "cell_type": "code",
   "execution_count": 35,
   "metadata": {
    "vscode": {
     "languageId": "r"
    }
   },
   "outputs": [
    {
     "name": "stdout",
     "output_type": "stream",
     "text": [
      "Rows: 237\n",
      "Columns: 14\n",
      "$ age      \u001b[3m\u001b[90m<dbl>\u001b[39m\u001b[23m 63, 37, 41, 57, 44, 52, 57, 54, 48, 49, 64, 58, 50, 58, 43, 6…\n",
      "$ sex      \u001b[3m\u001b[90m<dbl>\u001b[39m\u001b[23m 1, 1, 0, 0, 1, 1, 1, 1, 0, 1, 1, 0, 0, 0, 1, 0, 1, 1, 1, 1, 0…\n",
      "$ cp       \u001b[3m\u001b[90m<dbl>\u001b[39m\u001b[23m 1, 3, 2, 4, 2, 3, 3, 4, 3, 2, 1, 1, 3, 3, 4, 1, 4, 3, 4, 3, 2…\n",
      "$ trestbps \u001b[3m\u001b[90m<dbl>\u001b[39m\u001b[23m 145, 130, 130, 120, 120, 172, 150, 140, 130, 130, 110, 150, 1…\n",
      "$ chol     \u001b[3m\u001b[90m<dbl>\u001b[39m\u001b[23m 233, 250, 204, 354, 263, 199, 168, 239, 275, 266, 211, 283, 2…\n",
      "$ fbs      \u001b[3m\u001b[90m<dbl>\u001b[39m\u001b[23m 1, 0, 0, 0, 0, 1, 0, 0, 0, 0, 0, 1, 0, 0, 0, 0, 0, 0, 0, 1, 0…\n",
      "$ restecg  \u001b[3m\u001b[90m<dbl>\u001b[39m\u001b[23m 2, 0, 2, 0, 0, 0, 0, 0, 0, 0, 2, 2, 0, 0, 0, 0, 0, 0, 0, 0, 0…\n",
      "$ thalach  \u001b[3m\u001b[90m<dbl>\u001b[39m\u001b[23m 150, 187, 172, 163, 173, 162, 174, 160, 139, 171, 144, 162, 1…\n",
      "$ exang    \u001b[3m\u001b[90m<dbl>\u001b[39m\u001b[23m 0, 0, 0, 1, 0, 0, 0, 0, 0, 0, 1, 0, 0, 0, 0, 0, 0, 1, 0, 1, 0…\n",
      "$ oldpeak  \u001b[3m\u001b[90m<dbl>\u001b[39m\u001b[23m 2.3, 3.5, 1.4, 0.6, 0.0, 0.5, 1.6, 1.2, 0.2, 0.6, 1.8, 1.0, 1…\n",
      "$ slope    \u001b[3m\u001b[90m<dbl>\u001b[39m\u001b[23m 3, 3, 1, 1, 1, 1, 1, 1, 1, 1, 2, 1, 2, 1, 1, 1, 2, 1, 1, 2, 1…\n",
      "$ ca       \u001b[3m\u001b[90m<dbl>\u001b[39m\u001b[23m 0, 0, 0, 0, 0, 0, 0, 0, 0, 0, 0, 0, 0, 0, 0, 2, 0, 0, 0, 0, 2…\n",
      "$ thal     \u001b[3m\u001b[90m<dbl>\u001b[39m\u001b[23m 6, 3, 3, 3, 7, 7, 3, 3, 3, 3, 3, 3, 3, 3, 3, 3, 7, 3, 3, 3, 3…\n",
      "$ num      \u001b[3m\u001b[90m<fct>\u001b[39m\u001b[23m Negative, Negative, Negative, Negative, Negative, Negative, N…\n"
     ]
    }
   ],
   "source": [
    "# creating the split object\n",
    "cleveland_split <- initial_split(cleveland_filtered, prop = 0.8, strata = num)\n",
    "\n",
    "# creating the training split\n",
    "cleveland_train <- training(cleveland_split)\n",
    "\n",
    "# creating the testing split\n",
    "cleveland_test <- testing(cleveland_split)\n",
    "\n",
    "glimpse(cleveland_train)\n"
   ]
  },
  {
   "cell_type": "markdown",
   "metadata": {},
   "source": [
    "#### Feature Selection\n",
    "kNN is an algorithm that does not work well with many predictors. To choose the predictors used for kNN, we have determined from research that `cp`, `trestbps`, `chol`, and `thalach` are good indicators for heart disease."
   ]
  },
  {
   "cell_type": "code",
   "execution_count": 36,
   "metadata": {
    "vscode": {
     "languageId": "r"
    }
   },
   "outputs": [
    {
     "data": {
      "image/png": "[encoded data removed]",
      "text/plain": [
       "plot without title"
      ]
     },
     "metadata": {
      "image/png": {
       "height": 420,
       "width": 540
      }
     },
     "output_type": "display_data"
    },
    {
     "data": {
      "image/png": "[encoded data removed]",
      "text/plain": [
       "plot without title"
      ]
     },
     "metadata": {
      "image/png": {
       "height": 420,
       "width": 540
      }
     },
     "output_type": "display_data"
    }
   ],
   "source": [
    "options(repr.plot.width = 9, repr.plot.height = 7)\n",
    "\n",
    "# graph to compare the age and diagnosis count\n",
    "age_dist <- cleveland_train |>\n",
    "  ggplot(aes(x = age, fill = num)) +\n",
    "  geom_histogram(position = \"identity\", binwidth = 5) +\n",
    "  scale_fill_brewer(palette = \"Set2\") +\n",
    "  labs(title = \"Age Distribution by Diagnosis Status\",\n",
    "       x = \"Age (Years)\",\n",
    "       y = \"Diagnosis Count\",\n",
    "       fill = \"Diagnosis Status\")\n",
    "\n",
    "age_dist\n",
    "\n",
    "# graph to compare the sex and diagnosis count\n",
    "gender_dist <- cleveland_train |>\n",
    "  mutate(sex = as_factor(sex)) |>\n",
    "  mutate(sex = fct_recode(sex, \"Male\" = \"1\", \"Female\" = \"0\")) |>\n",
    "  ggplot(aes(x = as_factor(sex), fill = num)) +\n",
    "  geom_bar(position = \"dodge\") +\n",
    "  scale_fill_brewer(palette = \"Set2\") +\n",
    "  labs(title = \"Diagnosis Status by Sex\",\n",
    "       x = \"Sex\",\n",
    "       y = \"Diagnosis Count\",\n",
    "       fill = \"Diagnosis Status\")\n",
    "\n",
    "gender_dist"
   ]
  },
  {
   "cell_type": "markdown",
   "metadata": {},
   "source": [
    "### Methods\n",
    "\n",
    "This is just for deciding what variables to use:\n",
    "\n",
    "\n",
    "col_names = c(age, sex, cp, trestbps, chol, fbs, restecg, thalach, exang, oldpeak, slope, ca, thal, num) \n",
    "#for the prelim later\n",
    "\n",
    "age, sex, cholesterol, fasting blood sugar, rest ecg(heartrate and rhythm), thalac (max heart rate), exang (Exercise induced pain in chest), \n",
    "\n",
    "For ST in ECG: https://www.ncbi.nlm.nih.gov/books/NBK459364/\n",
    "oldpeak (not really sure, ST depression in electrocardiogram), slope (0 downsloping, 1 flat, >=2 upsloping), Coronary artery disease (0-3), thalassemia (abnormal blood cells (less hemoglobin)), number of heart diseases (i think)\n",
    "\n",
    "### for the prelim later\n",
    "\n",
    "Age: age is the biggie\n",
    "\n",
    "Cholesterol: second biggie\n",
    "\n",
    "Thalach (Max heart rate): max heart rate during exercise is pretty big\n",
    "Rest ecg (rest heart behavior): pretty good determinant\n",
    "\n",
    "\n",
    "These are quantifiable values instead of intervals or 0, 1. These are also very big determinants of heart disease while others are either signals of\n",
    "related diseases or we can use as coefficients.\n",
    "\n",
    "l women.\n",
    "\n",
    "Oldpeak (ST depression in electrocardiogram): ST depression on an ECG during exercise can indicate inadequate blood flow to the heart, suggesting coronary art\n",
    "\n",
    "Sex: Men have higher risk, but again this is a flat coefficient we can multiply inery disease.\n",
    "\n",
    "Exang Exercise-inducedagain, just a flat coefficient 0 or 1\n",
    "\n",
    "Coronary arteries (0-3): big but also in intervals and rarer (many will have 0)he\n",
    "We want to use num as the strata\n",
    "We may want to use the variables, age, chol, fbs, and trestbps \n",
    "\n",
    "heart disease.\n",
    "\n",
    "\n",
    "\n"
   ]
  },
  {
   "cell_type": "markdown",
   "metadata": {},
   "source": [
    "### Expected Outcomes And Significance\n",
    "paragraph..."
   ]
  },
  {
   "cell_type": "markdown",
   "metadata": {},
   "source": [
    "### Sources\n",
    "https://archive.ics.uci.edu/dataset/45/heart+disease\n",
    "\n",
    "https://www.health.ny.gov/diseases/cardiovascular/heart_disease/#:~:text=About%20695%2C000%20people%20die%20of,killing%20approximately%20375%2C476%20people%20annually."
   ]
  }
 ],
 "metadata": {
  "kernelspec": {
   "display_name": "R",
   "language": "R",
   "name": "ir"
  },
  "language_info": {
   "codemirror_mode": "r",
   "file_extension": ".r",
   "mimetype": "text/x-r-source",
   "name": "R",
   "pygments_lexer": "r",
   "version": "4.3.1"
  }
 },
 "nbformat": 4,
 "nbformat_minor": 2
}
